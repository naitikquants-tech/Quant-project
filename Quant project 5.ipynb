{
 "cells": [
  {
   "cell_type": "markdown",
   "id": "ff83df54-2b12-458c-85d9-40858da55dcb",
   "metadata": {},
   "source": [
    "<h1 style=\"font-size:36px;\">Black Scholes Model</h1>"
   ]
  },
  {
   "cell_type": "code",
   "execution_count": 26,
   "id": "d4e9aed1-a819-4278-9cba-dcd551ad4df3",
   "metadata": {},
   "outputs": [],
   "source": [
    "# import all th libraries \n",
    "import numpy as np \n",
    "from scipy.stats import norm"
   ]
  },
  {
   "cell_type": "code",
   "execution_count": 27,
   "id": "27ec4571-4913-4d44-8b0e-6efedbb4623e",
   "metadata": {},
   "outputs": [],
   "source": [
    "# S = Stock Price\n",
    "# K = Strike Price\n",
    "# T = Time to Maturity\n",
    "# r = risk free interest rate\n",
    "# sigma = volatility of the stock\n",
    "\n",
    "def black_scholes_call(S,K,T,r,sigma):\n",
    "    d1 = (np.log(S/K) + (r + 0.5 * sigma**2)*T)/(sigma*np.sqrt(T))\n",
    "    d2 = d1 - sigma * np.sqrt(T)\n",
    "    call_option = S * norm.cdf(d1) - K * np.exp(-r * T) * norm.cdf(d2)\n",
    "    return call_option"
   ]
  },
  {
   "cell_type": "code",
   "execution_count": 28,
   "id": "038d5aa3-5395-4648-8aa1-15a5c8c23f1a",
   "metadata": {},
   "outputs": [],
   "source": [
    "def black_scholes_put(S,K,T,r,sigma):\n",
    "    d1 = (np.log(S/K) + (r + 0.5 * sigma**2)*T)/(sigma*np.sqrt(T))\n",
    "    d2 = d1 - sigma * np.sqrt(T)\n",
    "    put_option = K * np.exp(-r * T) * norm.cdf(-d2) - S *  norm.cdf(-d1)\n",
    "    return put_option"
   ]
  },
  {
   "cell_type": "code",
   "execution_count": 29,
   "id": "b4e391eb-b455-4fc1-bd8d-6cc7d99c0b8f",
   "metadata": {},
   "outputs": [
    {
     "data": {
      "text/plain": [
       "np.float64(6.203136017267752)"
      ]
     },
     "execution_count": 29,
     "metadata": {},
     "output_type": "execute_result"
    }
   ],
   "source": [
    "# Assumption of value \n",
    "S = 100\n",
    "K = 95\n",
    "T = 3/12\n",
    "r = 0.04\n",
    "sigma = 0.10\n",
    "\n",
    "black_scholes_call(S = 100, K = 95,T = 3/12,r = 0.04, sigma = 0.10)"
   ]
  },
  {
   "cell_type": "code",
   "execution_count": 30,
   "id": "3bf719e1-f328-4996-8479-11769981581f",
   "metadata": {},
   "outputs": [
    {
     "data": {
      "text/plain": [
       "np.float64(0.257870223438724)"
      ]
     },
     "execution_count": 30,
     "metadata": {},
     "output_type": "execute_result"
    }
   ],
   "source": [
    "black_scholes_put(S = 100,K = 95,T = 3/12,r = 0.04, sigma = 0.10)"
   ]
  }
 ],
 "metadata": {
  "kernelspec": {
   "display_name": "Python 3 (ipykernel)",
   "language": "python",
   "name": "python3"
  },
  "language_info": {
   "codemirror_mode": {
    "name": "ipython",
    "version": 3
   },
   "file_extension": ".py",
   "mimetype": "text/x-python",
   "name": "python",
   "nbconvert_exporter": "python",
   "pygments_lexer": "ipython3",
   "version": "3.13.5"
  }
 },
 "nbformat": 4,
 "nbformat_minor": 5
}
